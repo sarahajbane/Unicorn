{
  "nbformat": 4,
  "nbformat_minor": 0,
  "metadata": {
    "colab": {
      "provenance": [],
      "include_colab_link": true
    },
    "kernelspec": {
      "name": "python3",
      "display_name": "Python 3"
    },
    "language_info": {
      "name": "python"
    }
  },
  "cells": [
    {
      "cell_type": "markdown",
      "metadata": {
        "id": "view-in-github",
        "colab_type": "text"
      },
      "source": [
        "<a href=\"https://colab.research.google.com/github/sarahajbane/Unicorn/blob/main/Data_Transformation_Andreu.ipynb\" target=\"_parent\"><img src=\"https://colab.research.google.com/assets/colab-badge.svg\" alt=\"Open In Colab\"/></a>"
      ]
    },
    {
      "cell_type": "markdown",
      "source": [
        "#**Data Transformation**\n",
        "\n",
        "In this session, we will explore how to manipulate and transform datasets using Pandas. We will focus on operations like string slicing, applying string methods, renaming columns, adding and deleting columns, and using advanced data types. Below is the step-by-step explanation of the exercises."
      ],
      "metadata": {
        "id": "P8-lnz3PvtzQ"
      }
    },
    {
      "cell_type": "markdown",
      "source": [
        " Importing and Preparing Data"
      ],
      "metadata": {
        "id": "ivJdqE72uEm4"
      }
    },
    {
      "cell_type": "code",
      "source": [
        "import pandas as pd\n",
        "from google.colab import drive\n",
        "drive.mount('/content/drive')"
      ],
      "metadata": {
        "id": "YZnzSxtNuDvW",
        "colab": {
          "base_uri": "https://localhost:8080/"
        },
        "outputId": "285865f4-eddc-432b-b6aa-4a89b17a0619"
      },
      "execution_count": null,
      "outputs": [
        {
          "output_type": "stream",
          "name": "stdout",
          "text": [
            "Drive already mounted at /content/drive; to attempt to forcibly remount, call drive.mount(\"/content/drive\", force_remount=True).\n"
          ]
        }
      ]
    },
    {
      "cell_type": "code",
      "source": [
        "!ls '/content/drive/MyDrive'"
      ],
      "metadata": {
        "colab": {
          "base_uri": "https://localhost:8080/"
        },
        "id": "3dGExcSl0biT",
        "outputId": "e9d3f2fd-dc61-4e29-fe0b-64679427bdbb"
      },
      "execution_count": null,
      "outputs": [
        {
          "output_type": "stream",
          "name": "stdout",
          "text": [
            "\"Andreu's Getting started with Python and Pandas.pptx\"\t'Time sheet Template.gsheet'\n",
            "'Colab Notebooks'\t\t\t\t\t'W1 DA Sept 24 summary.gdoc'\n",
            " Datasets\n"
          ]
        }
      ]
    },
    {
      "cell_type": "code",
      "source": [
        "# open the file\n",
        "df = pd.read_csv('/content/drive/MyDrive/Datasets/w2d1dataset.csv')"
      ],
      "metadata": {
        "id": "bRiFxhPdua8f"
      },
      "execution_count": null,
      "outputs": []
    },
    {
      "cell_type": "markdown",
      "source": [
        "Use .head() to view the first 5 rows and understand the structure of the dataset."
      ],
      "metadata": {
        "id": "39fkth6iz4wC"
      }
    },
    {
      "cell_type": "code",
      "source": [
        "df.head()"
      ],
      "metadata": {
        "colab": {
          "base_uri": "https://localhost:8080/",
          "height": 206
        },
        "id": "i5qQSRXZu0YY",
        "outputId": "870d2b31-7a18-4a33-cd44-592c54e514d4"
      },
      "execution_count": null,
      "outputs": [
        {
          "output_type": "execute_result",
          "data": {
            "text/plain": [
              "  CustomerID       Date ProductID  Quantity  UnitPrice  SalesAmount  \\\n",
              "0       C001  1/15/2024      P001         2         20           40   \n",
              "1       C002  1/18/2024      P002         1         25           25   \n",
              "2       C003  1/20/2024      P001         3         20           60   \n",
              "3       C001  1/25/2024      P003         1        100          100   \n",
              "4       C004  1/26/2024      P002         2         25           50   \n",
              "\n",
              "  CustomerRegion  \n",
              "0          North  \n",
              "1           East  \n",
              "2          South  \n",
              "3          North  \n",
              "4           West  "
            ],
            "text/html": [
              "\n",
              "  <div id=\"df-48300841-9aea-497d-8c28-762f6871a863\" class=\"colab-df-container\">\n",
              "    <div>\n",
              "<style scoped>\n",
              "    .dataframe tbody tr th:only-of-type {\n",
              "        vertical-align: middle;\n",
              "    }\n",
              "\n",
              "    .dataframe tbody tr th {\n",
              "        vertical-align: top;\n",
              "    }\n",
              "\n",
              "    .dataframe thead th {\n",
              "        text-align: right;\n",
              "    }\n",
              "</style>\n",
              "<table border=\"1\" class=\"dataframe\">\n",
              "  <thead>\n",
              "    <tr style=\"text-align: right;\">\n",
              "      <th></th>\n",
              "      <th>CustomerID</th>\n",
              "      <th>Date</th>\n",
              "      <th>ProductID</th>\n",
              "      <th>Quantity</th>\n",
              "      <th>UnitPrice</th>\n",
              "      <th>SalesAmount</th>\n",
              "      <th>CustomerRegion</th>\n",
              "    </tr>\n",
              "  </thead>\n",
              "  <tbody>\n",
              "    <tr>\n",
              "      <th>0</th>\n",
              "      <td>C001</td>\n",
              "      <td>1/15/2024</td>\n",
              "      <td>P001</td>\n",
              "      <td>2</td>\n",
              "      <td>20</td>\n",
              "      <td>40</td>\n",
              "      <td>North</td>\n",
              "    </tr>\n",
              "    <tr>\n",
              "      <th>1</th>\n",
              "      <td>C002</td>\n",
              "      <td>1/18/2024</td>\n",
              "      <td>P002</td>\n",
              "      <td>1</td>\n",
              "      <td>25</td>\n",
              "      <td>25</td>\n",
              "      <td>East</td>\n",
              "    </tr>\n",
              "    <tr>\n",
              "      <th>2</th>\n",
              "      <td>C003</td>\n",
              "      <td>1/20/2024</td>\n",
              "      <td>P001</td>\n",
              "      <td>3</td>\n",
              "      <td>20</td>\n",
              "      <td>60</td>\n",
              "      <td>South</td>\n",
              "    </tr>\n",
              "    <tr>\n",
              "      <th>3</th>\n",
              "      <td>C001</td>\n",
              "      <td>1/25/2024</td>\n",
              "      <td>P003</td>\n",
              "      <td>1</td>\n",
              "      <td>100</td>\n",
              "      <td>100</td>\n",
              "      <td>North</td>\n",
              "    </tr>\n",
              "    <tr>\n",
              "      <th>4</th>\n",
              "      <td>C004</td>\n",
              "      <td>1/26/2024</td>\n",
              "      <td>P002</td>\n",
              "      <td>2</td>\n",
              "      <td>25</td>\n",
              "      <td>50</td>\n",
              "      <td>West</td>\n",
              "    </tr>\n",
              "  </tbody>\n",
              "</table>\n",
              "</div>\n",
              "    <div class=\"colab-df-buttons\">\n",
              "\n",
              "  <div class=\"colab-df-container\">\n",
              "    <button class=\"colab-df-convert\" onclick=\"convertToInteractive('df-48300841-9aea-497d-8c28-762f6871a863')\"\n",
              "            title=\"Convert this dataframe to an interactive table.\"\n",
              "            style=\"display:none;\">\n",
              "\n",
              "  <svg xmlns=\"http://www.w3.org/2000/svg\" height=\"24px\" viewBox=\"0 -960 960 960\">\n",
              "    <path d=\"M120-120v-720h720v720H120Zm60-500h600v-160H180v160Zm220 220h160v-160H400v160Zm0 220h160v-160H400v160ZM180-400h160v-160H180v160Zm440 0h160v-160H620v160ZM180-180h160v-160H180v160Zm440 0h160v-160H620v160Z\"/>\n",
              "  </svg>\n",
              "    </button>\n",
              "\n",
              "  <style>\n",
              "    .colab-df-container {\n",
              "      display:flex;\n",
              "      gap: 12px;\n",
              "    }\n",
              "\n",
              "    .colab-df-convert {\n",
              "      background-color: #E8F0FE;\n",
              "      border: none;\n",
              "      border-radius: 50%;\n",
              "      cursor: pointer;\n",
              "      display: none;\n",
              "      fill: #1967D2;\n",
              "      height: 32px;\n",
              "      padding: 0 0 0 0;\n",
              "      width: 32px;\n",
              "    }\n",
              "\n",
              "    .colab-df-convert:hover {\n",
              "      background-color: #E2EBFA;\n",
              "      box-shadow: 0px 1px 2px rgba(60, 64, 67, 0.3), 0px 1px 3px 1px rgba(60, 64, 67, 0.15);\n",
              "      fill: #174EA6;\n",
              "    }\n",
              "\n",
              "    .colab-df-buttons div {\n",
              "      margin-bottom: 4px;\n",
              "    }\n",
              "\n",
              "    [theme=dark] .colab-df-convert {\n",
              "      background-color: #3B4455;\n",
              "      fill: #D2E3FC;\n",
              "    }\n",
              "\n",
              "    [theme=dark] .colab-df-convert:hover {\n",
              "      background-color: #434B5C;\n",
              "      box-shadow: 0px 1px 3px 1px rgba(0, 0, 0, 0.15);\n",
              "      filter: drop-shadow(0px 1px 2px rgba(0, 0, 0, 0.3));\n",
              "      fill: #FFFFFF;\n",
              "    }\n",
              "  </style>\n",
              "\n",
              "    <script>\n",
              "      const buttonEl =\n",
              "        document.querySelector('#df-48300841-9aea-497d-8c28-762f6871a863 button.colab-df-convert');\n",
              "      buttonEl.style.display =\n",
              "        google.colab.kernel.accessAllowed ? 'block' : 'none';\n",
              "\n",
              "      async function convertToInteractive(key) {\n",
              "        const element = document.querySelector('#df-48300841-9aea-497d-8c28-762f6871a863');\n",
              "        const dataTable =\n",
              "          await google.colab.kernel.invokeFunction('convertToInteractive',\n",
              "                                                    [key], {});\n",
              "        if (!dataTable) return;\n",
              "\n",
              "        const docLinkHtml = 'Like what you see? Visit the ' +\n",
              "          '<a target=\"_blank\" href=https://colab.research.google.com/notebooks/data_table.ipynb>data table notebook</a>'\n",
              "          + ' to learn more about interactive tables.';\n",
              "        element.innerHTML = '';\n",
              "        dataTable['output_type'] = 'display_data';\n",
              "        await google.colab.output.renderOutput(dataTable, element);\n",
              "        const docLink = document.createElement('div');\n",
              "        docLink.innerHTML = docLinkHtml;\n",
              "        element.appendChild(docLink);\n",
              "      }\n",
              "    </script>\n",
              "  </div>\n",
              "\n",
              "\n",
              "<div id=\"df-1bb34ca7-141d-47f4-9468-5c9d780f46bb\">\n",
              "  <button class=\"colab-df-quickchart\" onclick=\"quickchart('df-1bb34ca7-141d-47f4-9468-5c9d780f46bb')\"\n",
              "            title=\"Suggest charts\"\n",
              "            style=\"display:none;\">\n",
              "\n",
              "<svg xmlns=\"http://www.w3.org/2000/svg\" height=\"24px\"viewBox=\"0 0 24 24\"\n",
              "     width=\"24px\">\n",
              "    <g>\n",
              "        <path d=\"M19 3H5c-1.1 0-2 .9-2 2v14c0 1.1.9 2 2 2h14c1.1 0 2-.9 2-2V5c0-1.1-.9-2-2-2zM9 17H7v-7h2v7zm4 0h-2V7h2v10zm4 0h-2v-4h2v4z\"/>\n",
              "    </g>\n",
              "</svg>\n",
              "  </button>\n",
              "\n",
              "<style>\n",
              "  .colab-df-quickchart {\n",
              "      --bg-color: #E8F0FE;\n",
              "      --fill-color: #1967D2;\n",
              "      --hover-bg-color: #E2EBFA;\n",
              "      --hover-fill-color: #174EA6;\n",
              "      --disabled-fill-color: #AAA;\n",
              "      --disabled-bg-color: #DDD;\n",
              "  }\n",
              "\n",
              "  [theme=dark] .colab-df-quickchart {\n",
              "      --bg-color: #3B4455;\n",
              "      --fill-color: #D2E3FC;\n",
              "      --hover-bg-color: #434B5C;\n",
              "      --hover-fill-color: #FFFFFF;\n",
              "      --disabled-bg-color: #3B4455;\n",
              "      --disabled-fill-color: #666;\n",
              "  }\n",
              "\n",
              "  .colab-df-quickchart {\n",
              "    background-color: var(--bg-color);\n",
              "    border: none;\n",
              "    border-radius: 50%;\n",
              "    cursor: pointer;\n",
              "    display: none;\n",
              "    fill: var(--fill-color);\n",
              "    height: 32px;\n",
              "    padding: 0;\n",
              "    width: 32px;\n",
              "  }\n",
              "\n",
              "  .colab-df-quickchart:hover {\n",
              "    background-color: var(--hover-bg-color);\n",
              "    box-shadow: 0 1px 2px rgba(60, 64, 67, 0.3), 0 1px 3px 1px rgba(60, 64, 67, 0.15);\n",
              "    fill: var(--button-hover-fill-color);\n",
              "  }\n",
              "\n",
              "  .colab-df-quickchart-complete:disabled,\n",
              "  .colab-df-quickchart-complete:disabled:hover {\n",
              "    background-color: var(--disabled-bg-color);\n",
              "    fill: var(--disabled-fill-color);\n",
              "    box-shadow: none;\n",
              "  }\n",
              "\n",
              "  .colab-df-spinner {\n",
              "    border: 2px solid var(--fill-color);\n",
              "    border-color: transparent;\n",
              "    border-bottom-color: var(--fill-color);\n",
              "    animation:\n",
              "      spin 1s steps(1) infinite;\n",
              "  }\n",
              "\n",
              "  @keyframes spin {\n",
              "    0% {\n",
              "      border-color: transparent;\n",
              "      border-bottom-color: var(--fill-color);\n",
              "      border-left-color: var(--fill-color);\n",
              "    }\n",
              "    20% {\n",
              "      border-color: transparent;\n",
              "      border-left-color: var(--fill-color);\n",
              "      border-top-color: var(--fill-color);\n",
              "    }\n",
              "    30% {\n",
              "      border-color: transparent;\n",
              "      border-left-color: var(--fill-color);\n",
              "      border-top-color: var(--fill-color);\n",
              "      border-right-color: var(--fill-color);\n",
              "    }\n",
              "    40% {\n",
              "      border-color: transparent;\n",
              "      border-right-color: var(--fill-color);\n",
              "      border-top-color: var(--fill-color);\n",
              "    }\n",
              "    60% {\n",
              "      border-color: transparent;\n",
              "      border-right-color: var(--fill-color);\n",
              "    }\n",
              "    80% {\n",
              "      border-color: transparent;\n",
              "      border-right-color: var(--fill-color);\n",
              "      border-bottom-color: var(--fill-color);\n",
              "    }\n",
              "    90% {\n",
              "      border-color: transparent;\n",
              "      border-bottom-color: var(--fill-color);\n",
              "    }\n",
              "  }\n",
              "</style>\n",
              "\n",
              "  <script>\n",
              "    async function quickchart(key) {\n",
              "      const quickchartButtonEl =\n",
              "        document.querySelector('#' + key + ' button');\n",
              "      quickchartButtonEl.disabled = true;  // To prevent multiple clicks.\n",
              "      quickchartButtonEl.classList.add('colab-df-spinner');\n",
              "      try {\n",
              "        const charts = await google.colab.kernel.invokeFunction(\n",
              "            'suggestCharts', [key], {});\n",
              "      } catch (error) {\n",
              "        console.error('Error during call to suggestCharts:', error);\n",
              "      }\n",
              "      quickchartButtonEl.classList.remove('colab-df-spinner');\n",
              "      quickchartButtonEl.classList.add('colab-df-quickchart-complete');\n",
              "    }\n",
              "    (() => {\n",
              "      let quickchartButtonEl =\n",
              "        document.querySelector('#df-1bb34ca7-141d-47f4-9468-5c9d780f46bb button');\n",
              "      quickchartButtonEl.style.display =\n",
              "        google.colab.kernel.accessAllowed ? 'block' : 'none';\n",
              "    })();\n",
              "  </script>\n",
              "</div>\n",
              "\n",
              "    </div>\n",
              "  </div>\n"
            ],
            "application/vnd.google.colaboratory.intrinsic+json": {
              "type": "dataframe",
              "variable_name": "df",
              "summary": "{\n  \"name\": \"df\",\n  \"rows\": 16,\n  \"fields\": [\n    {\n      \"column\": \"CustomerID\",\n      \"properties\": {\n        \"dtype\": \"string\",\n        \"num_unique_values\": 8,\n        \"samples\": [\n          \"C002\",\n          \"C006\",\n          \"C001\"\n        ],\n        \"semantic_type\": \"\",\n        \"description\": \"\"\n      }\n    },\n    {\n      \"column\": \"Date\",\n      \"properties\": {\n        \"dtype\": \"object\",\n        \"num_unique_values\": 16,\n        \"samples\": [\n          \"1/15/2024\",\n          \"1/18/2024\",\n          \"2/1/2024\"\n        ],\n        \"semantic_type\": \"\",\n        \"description\": \"\"\n      }\n    },\n    {\n      \"column\": \"ProductID\",\n      \"properties\": {\n        \"dtype\": \"category\",\n        \"num_unique_values\": 4,\n        \"samples\": [\n          \"P002\",\n          \"P004\",\n          \"P001\"\n        ],\n        \"semantic_type\": \"\",\n        \"description\": \"\"\n      }\n    },\n    {\n      \"column\": \"Quantity\",\n      \"properties\": {\n        \"dtype\": \"number\",\n        \"std\": 0,\n        \"min\": 1,\n        \"max\": 4,\n        \"num_unique_values\": 4,\n        \"samples\": [\n          1,\n          4,\n          2\n        ],\n        \"semantic_type\": \"\",\n        \"description\": \"\"\n      }\n    },\n    {\n      \"column\": \"UnitPrice\",\n      \"properties\": {\n        \"dtype\": \"number\",\n        \"std\": 71,\n        \"min\": 20,\n        \"max\": 200,\n        \"num_unique_values\": 4,\n        \"samples\": [\n          25,\n          200,\n          20\n        ],\n        \"semantic_type\": \"\",\n        \"description\": \"\"\n      }\n    },\n    {\n      \"column\": \"SalesAmount\",\n      \"properties\": {\n        \"dtype\": \"number\",\n        \"std\": 61,\n        \"min\": 25,\n        \"max\": 200,\n        \"num_unique_values\": 8,\n        \"samples\": [\n          25,\n          80,\n          40\n        ],\n        \"semantic_type\": \"\",\n        \"description\": \"\"\n      }\n    },\n    {\n      \"column\": \"CustomerRegion\",\n      \"properties\": {\n        \"dtype\": \"category\",\n        \"num_unique_values\": 4,\n        \"samples\": [\n          \"East\",\n          \"West\",\n          \"North\"\n        ],\n        \"semantic_type\": \"\",\n        \"description\": \"\"\n      }\n    }\n  ]\n}"
            }
          },
          "metadata": {},
          "execution_count": 29
        }
      ]
    },
    {
      "cell_type": "markdown",
      "source": [
        "##Strings in Python"
      ],
      "metadata": {
        "id": "LTK3gM74vp4K"
      }
    },
    {
      "cell_type": "markdown",
      "source": [
        "Extract the year from the Date column using slicing and create a new column Year.\n",
        "\n",
        "**Method:**\n",
        "Use .str to access string methods in Pandas.\n",
        "str[-4:] slices the last 4 characters of the string, which corresponds to the year.\n",
        "\n",
        "A new column 'Year' is added to the dataset."
      ],
      "metadata": {
        "id": "_dUE_jeIv0wC"
      }
    },
    {
      "cell_type": "code",
      "source": [
        "df['Year'] = df['Date'].str[-4:]\n",
        "print(df[['Date', 'Year']])"
      ],
      "metadata": {
        "colab": {
          "base_uri": "https://localhost:8080/"
        },
        "id": "i24iF-STvhtE",
        "outputId": "5b6f4701-72d8-412c-9259-5f7624dae381"
      },
      "execution_count": null,
      "outputs": [
        {
          "output_type": "stream",
          "name": "stdout",
          "text": [
            "         Date  Year\n",
            "0   1/15/2024  2024\n",
            "1   1/18/2024  2024\n",
            "2   1/20/2024  2024\n",
            "3   1/25/2024  2024\n",
            "4   1/26/2024  2024\n",
            "5    2/1/2024  2024\n",
            "6    2/5/2024  2024\n",
            "7   2/10/2024  2024\n",
            "8   2/12/2024  2024\n",
            "9   2/15/2024  2024\n",
            "10  2/20/2024  2024\n",
            "11  2/22/2024  2024\n",
            "12   3/1/2024  2024\n",
            "13   3/3/2024  2024\n",
            "14   3/5/2024  2024\n",
            "15   3/7/2024  2024\n"
          ]
        }
      ]
    },
    {
      "cell_type": "markdown",
      "source": [
        "Concatenate CustomerRegion and ProductID into a new column RegionProduct:\n",
        "**Method:**\n",
        "Use the + operator to concatenate strings.\n",
        "Add an underscore _ as a separator between the two values.\n",
        "\n",
        "A new column RegionProduct is created."
      ],
      "metadata": {
        "id": "o63iOjmowApv"
      }
    },
    {
      "cell_type": "code",
      "source": [
        "df['RegionProduct'] = df['CustomerRegion'] + \"_\" + df['ProductID']\n",
        "print(df[['CustomerRegion', 'ProductID', 'RegionProduct']])\n"
      ],
      "metadata": {
        "colab": {
          "base_uri": "https://localhost:8080/"
        },
        "id": "1obyzHnXv9C3",
        "outputId": "149fc897-02f4-4d44-e502-4a6c90bb4cd5"
      },
      "execution_count": null,
      "outputs": [
        {
          "output_type": "stream",
          "name": "stdout",
          "text": [
            "   CustomerRegion ProductID RegionProduct\n",
            "0           North      P001    North_P001\n",
            "1            East      P002     East_P002\n",
            "2           South      P001    South_P001\n",
            "3           North      P003    North_P003\n",
            "4            West      P002     West_P002\n",
            "5            East      P001     East_P001\n",
            "6           North      P004    North_P004\n",
            "7           South      P002    South_P002\n",
            "8            East      P003     East_P003\n",
            "9           North      P004    North_P004\n",
            "10           East      P001     East_P001\n",
            "11          South      P002    South_P002\n",
            "12          North      P003    North_P003\n",
            "13           West      P004     West_P004\n",
            "14          North      P001    North_P001\n",
            "15          South      P002    South_P002\n"
          ]
        }
      ]
    },
    {
      "cell_type": "markdown",
      "source": [
        "##Working with Strings in Pandas"
      ],
      "metadata": {
        "id": "5K6fmuyXwOkt"
      }
    },
    {
      "cell_type": "markdown",
      "source": [
        "Convert the CustomerRegion column to uppercase using *.str.upper()* to convert strings to uppercase.\n",
        "\n",
        "All values in the CustomerRegion column are in uppercase."
      ],
      "metadata": {
        "id": "TbWDhR1GwV9u"
      }
    },
    {
      "cell_type": "code",
      "source": [
        "df['CustomerRegion'] = df['CustomerRegion'].str.upper()\n",
        "print(df['CustomerRegion'])\n"
      ],
      "metadata": {
        "colab": {
          "base_uri": "https://localhost:8080/"
        },
        "id": "EZRRdr5TwHuG",
        "outputId": "4e6dd588-5227-47ed-dec9-9ddf8f055fae"
      },
      "execution_count": null,
      "outputs": [
        {
          "output_type": "stream",
          "name": "stdout",
          "text": [
            "0     NORTH\n",
            "1      EAST\n",
            "2     SOUTH\n",
            "3     NORTH\n",
            "4      WEST\n",
            "5      EAST\n",
            "6     NORTH\n",
            "7     SOUTH\n",
            "8      EAST\n",
            "9     NORTH\n",
            "10     EAST\n",
            "11    SOUTH\n",
            "12    NORTH\n",
            "13     WEST\n",
            "14    NORTH\n",
            "15    SOUTH\n",
            "Name: CustomerRegion, dtype: object\n"
          ]
        }
      ]
    },
    {
      "cell_type": "markdown",
      "source": [
        "Split the RegionProduct column into two new columns: Region and Product using .str.split().\n",
        "\n",
        "**Method:**\n",
        "\n",
        "Use .str.split('_') to split the string at the underscore.\n",
        "Set expand=True to create separate columns for each split value.\n",
        "\n",
        "Two new columns, Region and Product, are added."
      ],
      "metadata": {
        "id": "s201FXT-wmE_"
      }
    },
    {
      "cell_type": "code",
      "source": [
        "df[['Region', 'Product']] = df['RegionProduct'].str.split('_', expand=True)\n",
        "print(df[['Region', 'Product']])\n"
      ],
      "metadata": {
        "colab": {
          "base_uri": "https://localhost:8080/"
        },
        "id": "zyatOFfpweQp",
        "outputId": "426f9dfb-94d9-46eb-a118-77eedfd3cdaa"
      },
      "execution_count": null,
      "outputs": [
        {
          "output_type": "stream",
          "name": "stdout",
          "text": [
            "   Region Product\n",
            "0   North    P001\n",
            "1    East    P002\n",
            "2   South    P001\n",
            "3   North    P003\n",
            "4    West    P002\n",
            "5    East    P001\n",
            "6   North    P004\n",
            "7   South    P002\n",
            "8    East    P003\n",
            "9   North    P004\n",
            "10   East    P001\n",
            "11  South    P002\n",
            "12  North    P003\n",
            "13   West    P004\n",
            "14  North    P001\n",
            "15  South    P002\n"
          ]
        }
      ]
    },
    {
      "cell_type": "markdown",
      "source": [
        "Check if ProductID contains the substring \"P00\" and create a new column ContainsP00 with the result.\n",
        "\n",
        "**Method:**\n",
        "Use .str.contains() to return True if the substring is found and False otherwise.\n",
        "\n",
        "A new column ContainsP00 is added with boolean values."
      ],
      "metadata": {
        "id": "nN0Jt1Ynwvh-"
      }
    },
    {
      "cell_type": "code",
      "source": [
        "df['ContainsP00'] = df['ProductID'].str.contains('P00')\n",
        "print(df[['ProductID', 'ContainsP00']])\n"
      ],
      "metadata": {
        "colab": {
          "base_uri": "https://localhost:8080/"
        },
        "id": "hxNtIuYpweLy",
        "outputId": "daeb0fb7-3092-42a3-d72f-efb77e157a5d"
      },
      "execution_count": null,
      "outputs": [
        {
          "output_type": "stream",
          "name": "stdout",
          "text": [
            "   ProductID  ContainsP00\n",
            "0       P001         True\n",
            "1       P002         True\n",
            "2       P001         True\n",
            "3       P003         True\n",
            "4       P002         True\n",
            "5       P001         True\n",
            "6       P004         True\n",
            "7       P002         True\n",
            "8       P003         True\n",
            "9       P004         True\n",
            "10      P001         True\n",
            "11      P002         True\n",
            "12      P003         True\n",
            "13      P004         True\n",
            "14      P001         True\n",
            "15      P002         True\n"
          ]
        }
      ]
    },
    {
      "cell_type": "markdown",
      "source": [
        "##Renaming, Adding, and Deleting Columns"
      ],
      "metadata": {
        "id": "78kuT942w2pO"
      }
    },
    {
      "cell_type": "markdown",
      "source": [
        "**Rename column**\n",
        "\n",
        "Rename the CustomerRegion column to Region for simplicity.\n",
        "**Method:**\n",
        "\n",
        "Use .rename(columns={old_name: new_name}).\n",
        "Set inplace=True to apply changes to the DataFrame directly.The column name will be updated"
      ],
      "metadata": {
        "id": "Wp_jtGHww-Jj"
      }
    },
    {
      "cell_type": "code",
      "source": [
        "df.rename(columns={'CustomerRegion': 'Region'}, inplace=True)\n",
        "#, 'ProductID': 'product_id'\n",
        "print(df.columns)\n"
      ],
      "metadata": {
        "colab": {
          "base_uri": "https://localhost:8080/"
        },
        "id": "Utqw2r-bwyjn",
        "outputId": "1e8bd004-4e1a-4717-9f4a-b5293d908a22"
      },
      "execution_count": null,
      "outputs": [
        {
          "output_type": "stream",
          "name": "stdout",
          "text": [
            "Index(['CustomerID', 'Date', 'product_id', 'Quantity', 'UnitPrice',\n",
            "       'SalesAmount', 'Region'],\n",
            "      dtype='object')\n"
          ]
        }
      ]
    },
    {
      "cell_type": "markdown",
      "source": [
        "###**Adding new column**\n",
        "\n",
        "Calculate the net sales after applying a 10% discount.\n",
        "\n",
        "**Method:**\n",
        "Subtract 10% of SalesAmount from itself and assign the result to a new column NetSales.\n",
        "\n",
        "Result: A new column NetSales is added."
      ],
      "metadata": {
        "id": "_LuWLmGvxHuY"
      }
    },
    {
      "cell_type": "code",
      "source": [
        "df['NetSales'] = df['SalesAmount'] - (df['SalesAmount'] * 0.10)\n",
        "print(df[['SalesAmount', 'NetSales']])\n"
      ],
      "metadata": {
        "colab": {
          "base_uri": "https://localhost:8080/"
        },
        "id": "jK3pyxO9xAPf",
        "outputId": "22d21e6b-48c3-4ec9-9e1c-d2495e2381a9"
      },
      "execution_count": null,
      "outputs": [
        {
          "output_type": "stream",
          "name": "stdout",
          "text": [
            "    SalesAmount  NetSales\n",
            "0            40      36.0\n",
            "1            25      22.5\n",
            "2            60      54.0\n",
            "3           100      90.0\n",
            "4            50      45.0\n",
            "5            80      72.0\n",
            "6           200     180.0\n",
            "7            50      45.0\n",
            "8           100      90.0\n",
            "9           200     180.0\n",
            "10           40      36.0\n",
            "11           25      22.5\n",
            "12          100      90.0\n",
            "13          200     180.0\n",
            "14           40      36.0\n",
            "15           75      67.5\n"
          ]
        }
      ]
    },
    {
      "cell_type": "markdown",
      "source": [
        "###**Delete a Column**\n",
        "\n",
        "Remove the RegionProduct column to simplify the dataset.\n",
        "Method: Use .drop(columns=[column_name]) and set inplace=True.\n",
        "Result: The RegionProduct column is deleted.\n"
      ],
      "metadata": {
        "id": "rqyrHhVrxPBk"
      }
    },
    {
      "cell_type": "code",
      "source": [
        "df.drop(columns=['RegionProduct'], inplace=True)\n",
        "print(df.head())\n"
      ],
      "metadata": {
        "colab": {
          "base_uri": "https://localhost:8080/"
        },
        "id": "F0sbxxmwxKSy",
        "outputId": "93754965-d4e1-447d-855e-a1f12f0f2c56"
      },
      "execution_count": null,
      "outputs": [
        {
          "output_type": "stream",
          "name": "stdout",
          "text": [
            "  CustomerID       Date ProductID  Quantity  UnitPrice  SalesAmount Region  \\\n",
            "0       C001  1/15/2024      P001         2         20           40  NORTH   \n",
            "1       C002  1/18/2024      P002         1         25           25   EAST   \n",
            "2       C003  1/20/2024      P001         3         20           60  SOUTH   \n",
            "3       C001  1/25/2024      P003         1        100          100  NORTH   \n",
            "4       C004  1/26/2024      P002         2         25           50   WEST   \n",
            "\n",
            "   Year Region Product  ContainsP00  NetSales  \n",
            "0  2024  North    P001         True      36.0  \n",
            "1  2024   East    P002         True      22.5  \n",
            "2  2024  South    P001         True      54.0  \n",
            "3  2024  North    P003         True      90.0  \n",
            "4  2024   West    P002         True      45.0  \n"
          ]
        }
      ]
    },
    {
      "cell_type": "markdown",
      "source": [
        "## **Convert to Categorical Data Type**\n"
      ],
      "metadata": {
        "id": "T7WTuiKazatW"
      }
    },
    {
      "cell_type": "markdown",
      "source": [
        "Convert the Region column to a categorical data type for memory optimization and faster operations.\n",
        "\n",
        "**Method:**\n",
        "\n",
        "Use .astype('category')."
      ],
      "metadata": {
        "id": "W4glonrM2EWb"
      }
    },
    {
      "cell_type": "code",
      "source": [
        "df['Region'] = df['Region'].astype('category')\n",
        "print(df.dtypes)\n"
      ],
      "metadata": {
        "colab": {
          "base_uri": "https://localhost:8080/"
        },
        "id": "D3FLSC5nxRdn",
        "outputId": "dc62fa33-9177-48ed-979b-6093ea948f9d"
      },
      "execution_count": null,
      "outputs": [
        {
          "output_type": "stream",
          "name": "stdout",
          "text": [
            "CustomerID       object\n",
            "Date             object\n",
            "ProductID        object\n",
            "Quantity          int64\n",
            "UnitPrice         int64\n",
            "SalesAmount       int64\n",
            "Region         category\n",
            "Year             object\n",
            "Region         category\n",
            "Product          object\n",
            "ContainsP00        bool\n",
            "NetSales        float64\n",
            "dtype: object\n"
          ]
        }
      ]
    },
    {
      "cell_type": "markdown",
      "source": [
        "##**Change Data Type to Float**"
      ],
      "metadata": {
        "id": "ls7rrZDe2VSY"
      }
    },
    {
      "cell_type": "markdown",
      "source": [
        "Convert the Quantity column from integer to float for more precise calculations.\n",
        "\n",
        "**Method:**\n",
        " Use .astype(float)  and The column data type will changes to float64."
      ],
      "metadata": {
        "id": "UjUKp8GogHgx"
      }
    },
    {
      "cell_type": "code",
      "source": [
        "df['Quantity'] = df['Quantity'].astype(float)\n",
        "print(df.dtypes)\n"
      ],
      "metadata": {
        "colab": {
          "base_uri": "https://localhost:8080/"
        },
        "id": "4JVrhgj-zfYk",
        "outputId": "2f526089-4396-4abe-8e89-dd836b649a0b"
      },
      "execution_count": null,
      "outputs": [
        {
          "output_type": "stream",
          "name": "stdout",
          "text": [
            "CustomerID      object\n",
            "Date            object\n",
            "product_id      object\n",
            "Quantity       float64\n",
            "UnitPrice        int64\n",
            "SalesAmount      int64\n",
            "Region          object\n",
            "dtype: object\n"
          ]
        }
      ]
    },
    {
      "cell_type": "code",
      "source": [
        "df"
      ],
      "metadata": {
        "colab": {
          "base_uri": "https://localhost:8080/",
          "height": 551
        },
        "id": "vELcVhb92g4I",
        "outputId": "02d13525-9030-4045-c38d-9ca2402463fb"
      },
      "execution_count": null,
      "outputs": [
        {
          "output_type": "execute_result",
          "data": {
            "text/plain": [
              "   CustomerID       Date product_id  Quantity  UnitPrice  SalesAmount Region\n",
              "0        C001  1/15/2024       P001       2.0         20           40  North\n",
              "1        C002  1/18/2024       P002       1.0         25           25   East\n",
              "2        C003  1/20/2024       P001       3.0         20           60  South\n",
              "3        C001  1/25/2024       P003       1.0        100          100  North\n",
              "4        C004  1/26/2024       P002       2.0         25           50   West\n",
              "5        C005   2/1/2024       P001       4.0         20           80   East\n",
              "6        C006   2/5/2024       P004       1.0        200          200  North\n",
              "7        C007  2/10/2024       P002       2.0         25           50  South\n",
              "8        C002  2/12/2024       P003       1.0        100          100   East\n",
              "9        C008  2/15/2024       P004       1.0        200          200  North\n",
              "10       C005  2/20/2024       P001       2.0         20           40   East\n",
              "11       C003  2/22/2024       P002       1.0         25           25  South\n",
              "12       C001   3/1/2024       P003       1.0        100          100  North\n",
              "13       C004   3/3/2024       P004       1.0        200          200   West\n",
              "14       C006   3/5/2024       P001       2.0         20           40  North\n",
              "15       C007   3/7/2024       P002       3.0         25           75  South"
            ],
            "text/html": [
              "\n",
              "  <div id=\"df-0698e77f-2813-40d4-8a98-a6a32f50749c\" class=\"colab-df-container\">\n",
              "    <div>\n",
              "<style scoped>\n",
              "    .dataframe tbody tr th:only-of-type {\n",
              "        vertical-align: middle;\n",
              "    }\n",
              "\n",
              "    .dataframe tbody tr th {\n",
              "        vertical-align: top;\n",
              "    }\n",
              "\n",
              "    .dataframe thead th {\n",
              "        text-align: right;\n",
              "    }\n",
              "</style>\n",
              "<table border=\"1\" class=\"dataframe\">\n",
              "  <thead>\n",
              "    <tr style=\"text-align: right;\">\n",
              "      <th></th>\n",
              "      <th>CustomerID</th>\n",
              "      <th>Date</th>\n",
              "      <th>product_id</th>\n",
              "      <th>Quantity</th>\n",
              "      <th>UnitPrice</th>\n",
              "      <th>SalesAmount</th>\n",
              "      <th>Region</th>\n",
              "    </tr>\n",
              "  </thead>\n",
              "  <tbody>\n",
              "    <tr>\n",
              "      <th>0</th>\n",
              "      <td>C001</td>\n",
              "      <td>1/15/2024</td>\n",
              "      <td>P001</td>\n",
              "      <td>2.0</td>\n",
              "      <td>20</td>\n",
              "      <td>40</td>\n",
              "      <td>North</td>\n",
              "    </tr>\n",
              "    <tr>\n",
              "      <th>1</th>\n",
              "      <td>C002</td>\n",
              "      <td>1/18/2024</td>\n",
              "      <td>P002</td>\n",
              "      <td>1.0</td>\n",
              "      <td>25</td>\n",
              "      <td>25</td>\n",
              "      <td>East</td>\n",
              "    </tr>\n",
              "    <tr>\n",
              "      <th>2</th>\n",
              "      <td>C003</td>\n",
              "      <td>1/20/2024</td>\n",
              "      <td>P001</td>\n",
              "      <td>3.0</td>\n",
              "      <td>20</td>\n",
              "      <td>60</td>\n",
              "      <td>South</td>\n",
              "    </tr>\n",
              "    <tr>\n",
              "      <th>3</th>\n",
              "      <td>C001</td>\n",
              "      <td>1/25/2024</td>\n",
              "      <td>P003</td>\n",
              "      <td>1.0</td>\n",
              "      <td>100</td>\n",
              "      <td>100</td>\n",
              "      <td>North</td>\n",
              "    </tr>\n",
              "    <tr>\n",
              "      <th>4</th>\n",
              "      <td>C004</td>\n",
              "      <td>1/26/2024</td>\n",
              "      <td>P002</td>\n",
              "      <td>2.0</td>\n",
              "      <td>25</td>\n",
              "      <td>50</td>\n",
              "      <td>West</td>\n",
              "    </tr>\n",
              "    <tr>\n",
              "      <th>5</th>\n",
              "      <td>C005</td>\n",
              "      <td>2/1/2024</td>\n",
              "      <td>P001</td>\n",
              "      <td>4.0</td>\n",
              "      <td>20</td>\n",
              "      <td>80</td>\n",
              "      <td>East</td>\n",
              "    </tr>\n",
              "    <tr>\n",
              "      <th>6</th>\n",
              "      <td>C006</td>\n",
              "      <td>2/5/2024</td>\n",
              "      <td>P004</td>\n",
              "      <td>1.0</td>\n",
              "      <td>200</td>\n",
              "      <td>200</td>\n",
              "      <td>North</td>\n",
              "    </tr>\n",
              "    <tr>\n",
              "      <th>7</th>\n",
              "      <td>C007</td>\n",
              "      <td>2/10/2024</td>\n",
              "      <td>P002</td>\n",
              "      <td>2.0</td>\n",
              "      <td>25</td>\n",
              "      <td>50</td>\n",
              "      <td>South</td>\n",
              "    </tr>\n",
              "    <tr>\n",
              "      <th>8</th>\n",
              "      <td>C002</td>\n",
              "      <td>2/12/2024</td>\n",
              "      <td>P003</td>\n",
              "      <td>1.0</td>\n",
              "      <td>100</td>\n",
              "      <td>100</td>\n",
              "      <td>East</td>\n",
              "    </tr>\n",
              "    <tr>\n",
              "      <th>9</th>\n",
              "      <td>C008</td>\n",
              "      <td>2/15/2024</td>\n",
              "      <td>P004</td>\n",
              "      <td>1.0</td>\n",
              "      <td>200</td>\n",
              "      <td>200</td>\n",
              "      <td>North</td>\n",
              "    </tr>\n",
              "    <tr>\n",
              "      <th>10</th>\n",
              "      <td>C005</td>\n",
              "      <td>2/20/2024</td>\n",
              "      <td>P001</td>\n",
              "      <td>2.0</td>\n",
              "      <td>20</td>\n",
              "      <td>40</td>\n",
              "      <td>East</td>\n",
              "    </tr>\n",
              "    <tr>\n",
              "      <th>11</th>\n",
              "      <td>C003</td>\n",
              "      <td>2/22/2024</td>\n",
              "      <td>P002</td>\n",
              "      <td>1.0</td>\n",
              "      <td>25</td>\n",
              "      <td>25</td>\n",
              "      <td>South</td>\n",
              "    </tr>\n",
              "    <tr>\n",
              "      <th>12</th>\n",
              "      <td>C001</td>\n",
              "      <td>3/1/2024</td>\n",
              "      <td>P003</td>\n",
              "      <td>1.0</td>\n",
              "      <td>100</td>\n",
              "      <td>100</td>\n",
              "      <td>North</td>\n",
              "    </tr>\n",
              "    <tr>\n",
              "      <th>13</th>\n",
              "      <td>C004</td>\n",
              "      <td>3/3/2024</td>\n",
              "      <td>P004</td>\n",
              "      <td>1.0</td>\n",
              "      <td>200</td>\n",
              "      <td>200</td>\n",
              "      <td>West</td>\n",
              "    </tr>\n",
              "    <tr>\n",
              "      <th>14</th>\n",
              "      <td>C006</td>\n",
              "      <td>3/5/2024</td>\n",
              "      <td>P001</td>\n",
              "      <td>2.0</td>\n",
              "      <td>20</td>\n",
              "      <td>40</td>\n",
              "      <td>North</td>\n",
              "    </tr>\n",
              "    <tr>\n",
              "      <th>15</th>\n",
              "      <td>C007</td>\n",
              "      <td>3/7/2024</td>\n",
              "      <td>P002</td>\n",
              "      <td>3.0</td>\n",
              "      <td>25</td>\n",
              "      <td>75</td>\n",
              "      <td>South</td>\n",
              "    </tr>\n",
              "  </tbody>\n",
              "</table>\n",
              "</div>\n",
              "    <div class=\"colab-df-buttons\">\n",
              "\n",
              "  <div class=\"colab-df-container\">\n",
              "    <button class=\"colab-df-convert\" onclick=\"convertToInteractive('df-0698e77f-2813-40d4-8a98-a6a32f50749c')\"\n",
              "            title=\"Convert this dataframe to an interactive table.\"\n",
              "            style=\"display:none;\">\n",
              "\n",
              "  <svg xmlns=\"http://www.w3.org/2000/svg\" height=\"24px\" viewBox=\"0 -960 960 960\">\n",
              "    <path d=\"M120-120v-720h720v720H120Zm60-500h600v-160H180v160Zm220 220h160v-160H400v160Zm0 220h160v-160H400v160ZM180-400h160v-160H180v160Zm440 0h160v-160H620v160ZM180-180h160v-160H180v160Zm440 0h160v-160H620v160Z\"/>\n",
              "  </svg>\n",
              "    </button>\n",
              "\n",
              "  <style>\n",
              "    .colab-df-container {\n",
              "      display:flex;\n",
              "      gap: 12px;\n",
              "    }\n",
              "\n",
              "    .colab-df-convert {\n",
              "      background-color: #E8F0FE;\n",
              "      border: none;\n",
              "      border-radius: 50%;\n",
              "      cursor: pointer;\n",
              "      display: none;\n",
              "      fill: #1967D2;\n",
              "      height: 32px;\n",
              "      padding: 0 0 0 0;\n",
              "      width: 32px;\n",
              "    }\n",
              "\n",
              "    .colab-df-convert:hover {\n",
              "      background-color: #E2EBFA;\n",
              "      box-shadow: 0px 1px 2px rgba(60, 64, 67, 0.3), 0px 1px 3px 1px rgba(60, 64, 67, 0.15);\n",
              "      fill: #174EA6;\n",
              "    }\n",
              "\n",
              "    .colab-df-buttons div {\n",
              "      margin-bottom: 4px;\n",
              "    }\n",
              "\n",
              "    [theme=dark] .colab-df-convert {\n",
              "      background-color: #3B4455;\n",
              "      fill: #D2E3FC;\n",
              "    }\n",
              "\n",
              "    [theme=dark] .colab-df-convert:hover {\n",
              "      background-color: #434B5C;\n",
              "      box-shadow: 0px 1px 3px 1px rgba(0, 0, 0, 0.15);\n",
              "      filter: drop-shadow(0px 1px 2px rgba(0, 0, 0, 0.3));\n",
              "      fill: #FFFFFF;\n",
              "    }\n",
              "  </style>\n",
              "\n",
              "    <script>\n",
              "      const buttonEl =\n",
              "        document.querySelector('#df-0698e77f-2813-40d4-8a98-a6a32f50749c button.colab-df-convert');\n",
              "      buttonEl.style.display =\n",
              "        google.colab.kernel.accessAllowed ? 'block' : 'none';\n",
              "\n",
              "      async function convertToInteractive(key) {\n",
              "        const element = document.querySelector('#df-0698e77f-2813-40d4-8a98-a6a32f50749c');\n",
              "        const dataTable =\n",
              "          await google.colab.kernel.invokeFunction('convertToInteractive',\n",
              "                                                    [key], {});\n",
              "        if (!dataTable) return;\n",
              "\n",
              "        const docLinkHtml = 'Like what you see? Visit the ' +\n",
              "          '<a target=\"_blank\" href=https://colab.research.google.com/notebooks/data_table.ipynb>data table notebook</a>'\n",
              "          + ' to learn more about interactive tables.';\n",
              "        element.innerHTML = '';\n",
              "        dataTable['output_type'] = 'display_data';\n",
              "        await google.colab.output.renderOutput(dataTable, element);\n",
              "        const docLink = document.createElement('div');\n",
              "        docLink.innerHTML = docLinkHtml;\n",
              "        element.appendChild(docLink);\n",
              "      }\n",
              "    </script>\n",
              "  </div>\n",
              "\n",
              "\n",
              "<div id=\"df-329833e8-f21b-4076-af18-b1988ede8755\">\n",
              "  <button class=\"colab-df-quickchart\" onclick=\"quickchart('df-329833e8-f21b-4076-af18-b1988ede8755')\"\n",
              "            title=\"Suggest charts\"\n",
              "            style=\"display:none;\">\n",
              "\n",
              "<svg xmlns=\"http://www.w3.org/2000/svg\" height=\"24px\"viewBox=\"0 0 24 24\"\n",
              "     width=\"24px\">\n",
              "    <g>\n",
              "        <path d=\"M19 3H5c-1.1 0-2 .9-2 2v14c0 1.1.9 2 2 2h14c1.1 0 2-.9 2-2V5c0-1.1-.9-2-2-2zM9 17H7v-7h2v7zm4 0h-2V7h2v10zm4 0h-2v-4h2v4z\"/>\n",
              "    </g>\n",
              "</svg>\n",
              "  </button>\n",
              "\n",
              "<style>\n",
              "  .colab-df-quickchart {\n",
              "      --bg-color: #E8F0FE;\n",
              "      --fill-color: #1967D2;\n",
              "      --hover-bg-color: #E2EBFA;\n",
              "      --hover-fill-color: #174EA6;\n",
              "      --disabled-fill-color: #AAA;\n",
              "      --disabled-bg-color: #DDD;\n",
              "  }\n",
              "\n",
              "  [theme=dark] .colab-df-quickchart {\n",
              "      --bg-color: #3B4455;\n",
              "      --fill-color: #D2E3FC;\n",
              "      --hover-bg-color: #434B5C;\n",
              "      --hover-fill-color: #FFFFFF;\n",
              "      --disabled-bg-color: #3B4455;\n",
              "      --disabled-fill-color: #666;\n",
              "  }\n",
              "\n",
              "  .colab-df-quickchart {\n",
              "    background-color: var(--bg-color);\n",
              "    border: none;\n",
              "    border-radius: 50%;\n",
              "    cursor: pointer;\n",
              "    display: none;\n",
              "    fill: var(--fill-color);\n",
              "    height: 32px;\n",
              "    padding: 0;\n",
              "    width: 32px;\n",
              "  }\n",
              "\n",
              "  .colab-df-quickchart:hover {\n",
              "    background-color: var(--hover-bg-color);\n",
              "    box-shadow: 0 1px 2px rgba(60, 64, 67, 0.3), 0 1px 3px 1px rgba(60, 64, 67, 0.15);\n",
              "    fill: var(--button-hover-fill-color);\n",
              "  }\n",
              "\n",
              "  .colab-df-quickchart-complete:disabled,\n",
              "  .colab-df-quickchart-complete:disabled:hover {\n",
              "    background-color: var(--disabled-bg-color);\n",
              "    fill: var(--disabled-fill-color);\n",
              "    box-shadow: none;\n",
              "  }\n",
              "\n",
              "  .colab-df-spinner {\n",
              "    border: 2px solid var(--fill-color);\n",
              "    border-color: transparent;\n",
              "    border-bottom-color: var(--fill-color);\n",
              "    animation:\n",
              "      spin 1s steps(1) infinite;\n",
              "  }\n",
              "\n",
              "  @keyframes spin {\n",
              "    0% {\n",
              "      border-color: transparent;\n",
              "      border-bottom-color: var(--fill-color);\n",
              "      border-left-color: var(--fill-color);\n",
              "    }\n",
              "    20% {\n",
              "      border-color: transparent;\n",
              "      border-left-color: var(--fill-color);\n",
              "      border-top-color: var(--fill-color);\n",
              "    }\n",
              "    30% {\n",
              "      border-color: transparent;\n",
              "      border-left-color: var(--fill-color);\n",
              "      border-top-color: var(--fill-color);\n",
              "      border-right-color: var(--fill-color);\n",
              "    }\n",
              "    40% {\n",
              "      border-color: transparent;\n",
              "      border-right-color: var(--fill-color);\n",
              "      border-top-color: var(--fill-color);\n",
              "    }\n",
              "    60% {\n",
              "      border-color: transparent;\n",
              "      border-right-color: var(--fill-color);\n",
              "    }\n",
              "    80% {\n",
              "      border-color: transparent;\n",
              "      border-right-color: var(--fill-color);\n",
              "      border-bottom-color: var(--fill-color);\n",
              "    }\n",
              "    90% {\n",
              "      border-color: transparent;\n",
              "      border-bottom-color: var(--fill-color);\n",
              "    }\n",
              "  }\n",
              "</style>\n",
              "\n",
              "  <script>\n",
              "    async function quickchart(key) {\n",
              "      const quickchartButtonEl =\n",
              "        document.querySelector('#' + key + ' button');\n",
              "      quickchartButtonEl.disabled = true;  // To prevent multiple clicks.\n",
              "      quickchartButtonEl.classList.add('colab-df-spinner');\n",
              "      try {\n",
              "        const charts = await google.colab.kernel.invokeFunction(\n",
              "            'suggestCharts', [key], {});\n",
              "      } catch (error) {\n",
              "        console.error('Error during call to suggestCharts:', error);\n",
              "      }\n",
              "      quickchartButtonEl.classList.remove('colab-df-spinner');\n",
              "      quickchartButtonEl.classList.add('colab-df-quickchart-complete');\n",
              "    }\n",
              "    (() => {\n",
              "      let quickchartButtonEl =\n",
              "        document.querySelector('#df-329833e8-f21b-4076-af18-b1988ede8755 button');\n",
              "      quickchartButtonEl.style.display =\n",
              "        google.colab.kernel.accessAllowed ? 'block' : 'none';\n",
              "    })();\n",
              "  </script>\n",
              "</div>\n",
              "\n",
              "  <div id=\"id_d9aab7b0-a850-473e-9cbb-2eb8fafcf8be\">\n",
              "    <style>\n",
              "      .colab-df-generate {\n",
              "        background-color: #E8F0FE;\n",
              "        border: none;\n",
              "        border-radius: 50%;\n",
              "        cursor: pointer;\n",
              "        display: none;\n",
              "        fill: #1967D2;\n",
              "        height: 32px;\n",
              "        padding: 0 0 0 0;\n",
              "        width: 32px;\n",
              "      }\n",
              "\n",
              "      .colab-df-generate:hover {\n",
              "        background-color: #E2EBFA;\n",
              "        box-shadow: 0px 1px 2px rgba(60, 64, 67, 0.3), 0px 1px 3px 1px rgba(60, 64, 67, 0.15);\n",
              "        fill: #174EA6;\n",
              "      }\n",
              "\n",
              "      [theme=dark] .colab-df-generate {\n",
              "        background-color: #3B4455;\n",
              "        fill: #D2E3FC;\n",
              "      }\n",
              "\n",
              "      [theme=dark] .colab-df-generate:hover {\n",
              "        background-color: #434B5C;\n",
              "        box-shadow: 0px 1px 3px 1px rgba(0, 0, 0, 0.15);\n",
              "        filter: drop-shadow(0px 1px 2px rgba(0, 0, 0, 0.3));\n",
              "        fill: #FFFFFF;\n",
              "      }\n",
              "    </style>\n",
              "    <button class=\"colab-df-generate\" onclick=\"generateWithVariable('df')\"\n",
              "            title=\"Generate code using this dataframe.\"\n",
              "            style=\"display:none;\">\n",
              "\n",
              "  <svg xmlns=\"http://www.w3.org/2000/svg\" height=\"24px\"viewBox=\"0 0 24 24\"\n",
              "       width=\"24px\">\n",
              "    <path d=\"M7,19H8.4L18.45,9,17,7.55,7,17.6ZM5,21V16.75L18.45,3.32a2,2,0,0,1,2.83,0l1.4,1.43a1.91,1.91,0,0,1,.58,1.4,1.91,1.91,0,0,1-.58,1.4L9.25,21ZM18.45,9,17,7.55Zm-12,3A5.31,5.31,0,0,0,4.9,8.1,5.31,5.31,0,0,0,1,6.5,5.31,5.31,0,0,0,4.9,4.9,5.31,5.31,0,0,0,6.5,1,5.31,5.31,0,0,0,8.1,4.9,5.31,5.31,0,0,0,12,6.5,5.46,5.46,0,0,0,6.5,12Z\"/>\n",
              "  </svg>\n",
              "    </button>\n",
              "    <script>\n",
              "      (() => {\n",
              "      const buttonEl =\n",
              "        document.querySelector('#id_d9aab7b0-a850-473e-9cbb-2eb8fafcf8be button.colab-df-generate');\n",
              "      buttonEl.style.display =\n",
              "        google.colab.kernel.accessAllowed ? 'block' : 'none';\n",
              "\n",
              "      buttonEl.onclick = () => {\n",
              "        google.colab.notebook.generateWithVariable('df');\n",
              "      }\n",
              "      })();\n",
              "    </script>\n",
              "  </div>\n",
              "\n",
              "    </div>\n",
              "  </div>\n"
            ],
            "application/vnd.google.colaboratory.intrinsic+json": {
              "type": "dataframe",
              "variable_name": "df",
              "summary": "{\n  \"name\": \"df\",\n  \"rows\": 16,\n  \"fields\": [\n    {\n      \"column\": \"CustomerID\",\n      \"properties\": {\n        \"dtype\": \"string\",\n        \"num_unique_values\": 8,\n        \"samples\": [\n          \"C002\",\n          \"C006\",\n          \"C001\"\n        ],\n        \"semantic_type\": \"\",\n        \"description\": \"\"\n      }\n    },\n    {\n      \"column\": \"Date\",\n      \"properties\": {\n        \"dtype\": \"object\",\n        \"num_unique_values\": 16,\n        \"samples\": [\n          \"1/15/2024\",\n          \"1/18/2024\",\n          \"2/1/2024\"\n        ],\n        \"semantic_type\": \"\",\n        \"description\": \"\"\n      }\n    },\n    {\n      \"column\": \"product_id\",\n      \"properties\": {\n        \"dtype\": \"category\",\n        \"num_unique_values\": 4,\n        \"samples\": [\n          \"P002\",\n          \"P004\",\n          \"P001\"\n        ],\n        \"semantic_type\": \"\",\n        \"description\": \"\"\n      }\n    },\n    {\n      \"column\": \"Quantity\",\n      \"properties\": {\n        \"dtype\": \"number\",\n        \"std\": 0.9309493362512627,\n        \"min\": 1.0,\n        \"max\": 4.0,\n        \"num_unique_values\": 4,\n        \"samples\": [\n          1.0,\n          4.0,\n          2.0\n        ],\n        \"semantic_type\": \"\",\n        \"description\": \"\"\n      }\n    },\n    {\n      \"column\": \"UnitPrice\",\n      \"properties\": {\n        \"dtype\": \"number\",\n        \"std\": 71,\n        \"min\": 20,\n        \"max\": 200,\n        \"num_unique_values\": 4,\n        \"samples\": [\n          25,\n          200,\n          20\n        ],\n        \"semantic_type\": \"\",\n        \"description\": \"\"\n      }\n    },\n    {\n      \"column\": \"SalesAmount\",\n      \"properties\": {\n        \"dtype\": \"number\",\n        \"std\": 61,\n        \"min\": 25,\n        \"max\": 200,\n        \"num_unique_values\": 8,\n        \"samples\": [\n          25,\n          80,\n          40\n        ],\n        \"semantic_type\": \"\",\n        \"description\": \"\"\n      }\n    },\n    {\n      \"column\": \"Region\",\n      \"properties\": {\n        \"dtype\": \"category\",\n        \"num_unique_values\": 4,\n        \"samples\": [\n          \"East\",\n          \"West\",\n          \"North\"\n        ],\n        \"semantic_type\": \"\",\n        \"description\": \"\"\n      }\n    }\n  ]\n}"
            }
          },
          "metadata": {},
          "execution_count": 24
        }
      ]
    },
    {
      "cell_type": "markdown",
      "source": [
        "**Thank you!**\n",
        "\n",
        "Keep Practicing.."
      ],
      "metadata": {
        "id": "Alp2PUaN2ebd"
      }
    },
    {
      "cell_type": "code",
      "source": [],
      "metadata": {
        "id": "rLMAeWd22aDo"
      },
      "execution_count": null,
      "outputs": []
    }
  ]
}