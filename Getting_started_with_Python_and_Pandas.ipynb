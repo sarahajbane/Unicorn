{
  "nbformat": 4,
  "nbformat_minor": 0,
  "metadata": {
    "colab": {
      "provenance": [],
      "include_colab_link": true
    },
    "kernelspec": {
      "name": "python3",
      "display_name": "Python 3"
    },
    "language_info": {
      "name": "python"
    }
  },
  "cells": [
    {
      "cell_type": "markdown",
      "metadata": {
        "id": "view-in-github",
        "colab_type": "text"
      },
      "source": [
        "<a href=\"https://colab.research.google.com/github/sarahajbane/Unicorn/blob/main/Getting_started_with_Python_and_Pandas.ipynb\" target=\"_parent\"><img src=\"https://colab.research.google.com/assets/colab-badge.svg\" alt=\"Open In Colab\"/></a>"
      ]
    },
    {
      "cell_type": "markdown",
      "source": [
        " # 1. Getting Started with Google Colab\n",
        " Google Colab is an online platform that allows you to write and execute Python code in your browser. It's widely used in data science and analytics for its simplicity and integration with Python libraries.\n"
      ],
      "metadata": {
        "id": "aS5fIlE0FP1O"
      }
    },
    {
      "cell_type": "markdown",
      "source": [
        " # Types of Cells in Colab\n",
        " 1. **Code Cells**: For writing and executing Python code.\n",
        " 2. **Text Cells**: For adding explanations, headings, or any markdown text."
      ],
      "metadata": {
        "id": "hFPyxG2nFXC_"
      }
    },
    {
      "cell_type": "markdown",
      "source": [
        "# Key Settings in Colab\n",
        " - Use the `Runtime` menu to change the runtime type (e.g., Python version or GPU).\n",
        " - Use the `+ Code` or `+ Text` buttons to add new cells.\n",
        " - Shortcut keys: `Ctrl + Enter` to run the current cell, `Shift + Enter` to run the current cell and move to the next one.\n",
        " Let's start by exploring some basic Python concepts and writing our first code."
      ],
      "metadata": {
        "id": "Y6iotfwDFhbP"
      }
    },
    {
      "cell_type": "markdown",
      "source": [
        "# 2. Writing Python Code\n",
        "\n",
        "## 2.1 Print Statements\n",
        " The `print()` function displays text or values in the output."
      ],
      "metadata": {
        "id": "fnyFbpTLF0-I"
      }
    },
    {
      "cell_type": "code",
      "execution_count": null,
      "metadata": {
        "colab": {
          "base_uri": "https://localhost:8080/"
        },
        "id": "_A1gqZbvEd2v",
        "outputId": "f3dc7af9-0dfd-4f09-c6c9-b3d8dfccab04"
      },
      "outputs": [
        {
          "output_type": "stream",
          "name": "stdout",
          "text": [
            "Welcome to your first Python class!\n"
          ]
        }
      ],
      "source": [
        "print(\"Welcome to your first Python class!\")"
      ]
    },
    {
      "cell_type": "markdown",
      "source": [
        "## 2.2 Variables and Data Types\n",
        " Variables store data. Python supports different data types such as integers, floats, strings, and booleans."
      ],
      "metadata": {
        "id": "qs1JlDR2GF7X"
      }
    },
    {
      "cell_type": "code",
      "source": [
        "# data tye examples:\n",
        "number = 42  # Integer\n",
        "gpa = 3.75  # Float\n",
        "name = \"Michael\"  # String\n",
        "is_enrolled = True  # Boolean"
      ],
      "metadata": {
        "id": "gcURs0ogF9fY"
      },
      "execution_count": null,
      "outputs": []
    },
    {
      "cell_type": "code",
      "source": [
        "print(\"Student Details:\")\n",
        "print(\"Name:\", name)\n",
        "print(\"GPA:\", gpa)\n",
        "print(\"Enrolled:\", is_enrolled)"
      ],
      "metadata": {
        "colab": {
          "base_uri": "https://localhost:8080/"
        },
        "id": "zVj0Br4zGUuP",
        "outputId": "daf334ad-7906-4026-e094-ca84879a62a8"
      },
      "execution_count": null,
      "outputs": [
        {
          "output_type": "stream",
          "name": "stdout",
          "text": [
            "Student Details:\n",
            "Name: Michael\n",
            "GPA: 3.75\n",
            "Enrolled: True\n"
          ]
        }
      ]
    },
    {
      "cell_type": "markdown",
      "source": [
        "## 2.3 Data Structures\n",
        " Python provides built-in data structures like lists, dictionaries, and tuples."
      ],
      "metadata": {
        "id": "hZ_Jq7fjGcDd"
      }
    },
    {
      "cell_type": "markdown",
      "source": [
        "**List**: Ordered collection of items."
      ],
      "metadata": {
        "id": "7-nnOaGwGip4"
      }
    },
    {
      "cell_type": "code",
      "source": [
        "scores = [85, 90, 78, 92]\n",
        "print(\"Scores:\", scores)\n"
      ],
      "metadata": {
        "colab": {
          "base_uri": "https://localhost:8080/"
        },
        "id": "vI_Z-1WaGXmH",
        "outputId": "68fe47c4-6ce7-49ac-c185-d5db740598d4"
      },
      "execution_count": null,
      "outputs": [
        {
          "output_type": "stream",
          "name": "stdout",
          "text": [
            "Scores: [85, 90, 78, 92]\n"
          ]
        }
      ]
    },
    {
      "cell_type": "markdown",
      "source": [
        "**Dictionary**: Key-value pairs."
      ],
      "metadata": {
        "id": "kqerKrrEGoK7"
      }
    },
    {
      "cell_type": "code",
      "source": [
        "student = {\"name\": \"Alice\", \"age\": 20, \"major\": \"Data Science\"}\n",
        "print(\"Student Info:\", student)"
      ],
      "metadata": {
        "colab": {
          "base_uri": "https://localhost:8080/"
        },
        "id": "9PsTRDKmGkmv",
        "outputId": "d193b030-01e9-46c7-e9ac-0af3cc642c8d"
      },
      "execution_count": null,
      "outputs": [
        {
          "output_type": "stream",
          "name": "stdout",
          "text": [
            "Student Info: {'name': 'Alice', 'age': 20, 'major': 'Data Science'}\n"
          ]
        }
      ]
    },
    {
      "cell_type": "markdown",
      "source": [
        "# 3. Practical Demo for Data Analytics\n",
        "\n",
        "## 3.1 Importing Libraries\n",
        " Libraries add extra functionality. Some popular ones for data science are NumPy, Pandas, and Matplotlib."
      ],
      "metadata": {
        "id": "h7HM1hEIGuMI"
      }
    },
    {
      "cell_type": "code",
      "source": [
        "import numpy as np\n",
        "import pandas as pd\n",
        "import matplotlib.pyplot as plt"
      ],
      "metadata": {
        "id": "tLIP75syGkjx"
      },
      "execution_count": null,
      "outputs": []
    },
    {
      "cell_type": "markdown",
      "source": [
        "## 3.2 Using NumPy for Arrays\n",
        " Create a NumPy array and perform basic operations."
      ],
      "metadata": {
        "id": "yWBaizulG79P"
      }
    },
    {
      "cell_type": "code",
      "source": [
        "data = np.array([1, 2, 3, 4, 5])\n",
        "print(\"Array:\", data)\n",
        "print(\"Mean:\", np.mean(data))\n",
        "print(\"Sum:\", np.sum(data))"
      ],
      "metadata": {
        "colab": {
          "base_uri": "https://localhost:8080/"
        },
        "id": "JBfzE92wG4RQ",
        "outputId": "d74fb8e4-704d-4275-c106-96a63ed6a4ee"
      },
      "execution_count": null,
      "outputs": [
        {
          "output_type": "stream",
          "name": "stdout",
          "text": [
            "Array: [1 2 3 4 5]\n",
            "Mean: 3.0\n",
            "Sum: 15\n"
          ]
        }
      ]
    },
    {
      "cell_type": "markdown",
      "source": [
        "## 3.3 Using Pandas for DataFrames\n",
        " Create a simple DataFrame."
      ],
      "metadata": {
        "id": "gfRVs0CMHGJ9"
      }
    },
    {
      "cell_type": "code",
      "source": [
        "data = {\n",
        "    \"Name\": [\"John\", \"Anna\", \"Micheal\"],\n",
        "    \"Age\": [20, 22, 23],\n",
        "    \"Score\": [85, 90, 88]\n",
        "}\n",
        "df = pd.DataFrame(data)\n",
        "print(\"DataFrame:\")\n",
        "print(df)"
      ],
      "metadata": {
        "colab": {
          "base_uri": "https://localhost:8080/"
        },
        "id": "2VUAd5ghG4NB",
        "outputId": "c69845c8-4595-4878-ff96-1a8c6595ce35"
      },
      "execution_count": null,
      "outputs": [
        {
          "output_type": "stream",
          "name": "stdout",
          "text": [
            "DataFrame:\n",
            "      Name  Age  Score\n",
            "0     John   20     85\n",
            "1     Anna   22     90\n",
            "2  Micheal   23     88\n"
          ]
        }
      ]
    },
    {
      "cell_type": "markdown",
      "source": [
        "## 3.4 Visualization with Matplotlib\n",
        " Create a bar chart."
      ],
      "metadata": {
        "id": "9pRvsTp1HTp5"
      }
    },
    {
      "cell_type": "code",
      "source": [
        "plt.bar(df[\"Name\"], df[\"Score\"], color='blue')\n",
        "plt.title(\"Student Scores\")\n",
        "plt.xlabel(\"Name\")\n",
        "plt.ylabel(\"Score\")\n",
        "plt.show()"
      ],
      "metadata": {
        "colab": {
          "base_uri": "https://localhost:8080/",
          "height": 472
        },
        "id": "_WrFbte6G4Jw",
        "outputId": "0dd30aa2-74a2-4470-fecb-37fafff6ba4e"
      },
      "execution_count": null,
      "outputs": [
        {
          "output_type": "display_data",
          "data": {
            "text/plain": [
              "<Figure size 640x480 with 1 Axes>"
            ],
            "image/png": "[encoded data removed]"
          },
          "metadata": {}
        }
      ]
    },
    {
      "cell_type": "markdown",
      "source": [
        "# 4. Setting the Stage for the Rest of the Course\n",
        " As we progress, we'll dive deeper into Python concepts and data analytics workflows, covering topics such as:\n",
        " - Intro to Python with Pandas\n",
        " - Data Wrangling using Pandas\n",
        " - EDA with Pandas\n",
        " - Project"
      ],
      "metadata": {
        "id": "T6agEigdHbb0"
      }
    },
    {
      "cell_type": "code",
      "source": [],
      "metadata": {
        "id": "Z73_xbsyHRve"
      },
      "execution_count": null,
      "outputs": []
    }
  ]
}